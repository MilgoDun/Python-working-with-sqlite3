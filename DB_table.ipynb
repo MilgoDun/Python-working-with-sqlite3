{
 "cells": [
  {
   "cell_type": "markdown",
   "id": "7ad5dfaa-9acc-45b9-a0ed-058f764da22c",
   "metadata": {},
   "source": [
    "SQLite is a software library that implements a self-contained, serverless, zero-configuration, transactional SQL database engine. SQLite is the most widely deployed SQL database engine in the world."
   ]
  },
  {
   "cell_type": "code",
   "execution_count": 5,
   "id": "e1b2fdc9-31cc-4e4c-b96a-73cec961bddc",
   "metadata": {},
   "outputs": [],
   "source": [
    "#Install & load sqlite3\n",
    "#!pip install sqlite3\n",
    "import sqlite3"
   ]
  },
  {
   "cell_type": "code",
   "execution_count": 13,
   "id": "9682ecf6-c0c8-49b5-ad2e-1f0b1abb98ea",
   "metadata": {},
   "outputs": [],
   "source": [
    "#connecting sqlite \n",
    "#connection object\n",
    "conn = sqlite3.connect('MILGO.db')"
   ]
  },
  {
   "cell_type": "markdown",
   "id": "1db7635b-0d9a-46fd-bb5f-99a8885e88f2",
   "metadata": {},
   "source": [
    "Cursor class is an instance using which you can invoke methods that execute SQLite statements, fetch data from the result sets of the queries. You can create Cursor object using the cursor() method of the Connection object/class."
   ]
  },
  {
   "cell_type": "code",
   "execution_count": 16,
   "id": "2fb492d3-f844-4dc1-a58f-9e29917fccf7",
   "metadata": {},
   "outputs": [],
   "source": [
    "#cursor object\n",
    "cursor_obj = conn.cursor()"
   ]
  },
  {
   "cell_type": "code",
   "execution_count": 18,
   "id": "ad3f101a-e29d-49c5-976d-e5a602b0f65e",
   "metadata": {},
   "outputs": [
    {
     "data": {
      "text/plain": [
       "<sqlite3.Cursor at 0x13ce8827c40>"
      ]
     },
     "execution_count": 18,
     "metadata": {},
     "output_type": "execute_result"
    }
   ],
   "source": [
    "cursor_obj.execute('DROP TABLE IF EXISTS MILGO')"
   ]
  },
  {
   "cell_type": "markdown",
   "id": "561a3657-cc09-4c28-a96f-844e64f8a29a",
   "metadata": {},
   "source": [
    "<H1>CREATING TABLE</H1>"
   ]
  },
  {
   "cell_type": "code",
   "execution_count": 20,
   "id": "5c564547-e7a1-45ed-8f0b-d036e052b18b",
   "metadata": {},
   "outputs": [
    {
     "name": "stdout",
     "output_type": "stream",
     "text": [
      "Table is Ready\n"
     ]
    }
   ],
   "source": [
    "# Creating table\n",
    "table = \"\"\" create table IF NOT EXISTS INSTRUCTOR(ID INTEGER PRIMARY KEY NOT NULL, FNAME VARCHAR(20), LNAME VARCHAR(20), CITY VARCHAR(20), CCODE CHAR(2));\"\"\"\n",
    " \n",
    "cursor_obj.execute(table)\n",
    " \n",
    "print(\"Table is Ready\")"
   ]
  },
  {
   "cell_type": "markdown",
   "id": "6b475af2-a45c-4252-b46b-8383c8781e0c",
   "metadata": {},
   "source": [
    "<H1>INSERTING ROWS INTO THE TABLE</H1>"
   ]
  },
  {
   "cell_type": "code",
   "execution_count": 22,
   "id": "abe834a8-944e-41d2-aa28-ce7c02767d68",
   "metadata": {},
   "outputs": [
    {
     "data": {
      "text/plain": [
       "<sqlite3.Cursor at 0x13ce8827c40>"
      ]
     },
     "execution_count": 22,
     "metadata": {},
     "output_type": "execute_result"
    }
   ],
   "source": [
    "cursor_obj.execute('''insert into INSTRUCTOR values (2, 'Raul', 'Chong', 'Markham', 'CA'), (3, 'Hima', 'Vasudevan', 'Chicago', 'US')''')"
   ]
  },
  {
   "cell_type": "code",
   "execution_count": 24,
   "id": "10bbe925-72d6-411a-a114-8960b98607d0",
   "metadata": {},
   "outputs": [
    {
     "data": {
      "text/plain": [
       "<sqlite3.Cursor at 0x13ce8827c40>"
      ]
     },
     "execution_count": 24,
     "metadata": {},
     "output_type": "execute_result"
    }
   ],
   "source": [
    "cursor_obj.execute('''insert into INSTRUCTOR values (1, 'Rav', 'Ahuja', 'TORONTO', 'CA')''')"
   ]
  },
  {
   "cell_type": "markdown",
   "id": "604ee9e2-3238-4592-b6df-5dcb81bf814e",
   "metadata": {},
   "source": [
    "<H1>Query data in the table</H1>"
   ]
  },
  {
   "cell_type": "code",
   "execution_count": 49,
   "id": "22551858-0e80-42ca-8b58-4f8285335b9c",
   "metadata": {},
   "outputs": [
    {
     "name": "stdout",
     "output_type": "stream",
     "text": [
      "all data\n",
      "(1, 'Rav', 'Ahuja', 'TORONTO', 'CA')\n",
      "(2, 'Raul', 'Chong', 'Markham', 'CA')\n",
      "(3, 'Hima', 'Vasudevan', 'Chicago', 'US')\n"
     ]
    }
   ],
   "source": [
    "statement = \"SELECT * FROM INSTRUCTOR\"\n",
    "cursor_obj.execute(statement)\n",
    "\n",
    "print(\"all data\")\n",
    "output_all = cursor_obj.fetchall()\n",
    "for row in output_all:\n",
    "    print(row)"
   ]
  },
  {
   "cell_type": "code",
   "execution_count": 51,
   "id": "18e1eb18-687e-4438-9596-a2c00afcfa3b",
   "metadata": {},
   "outputs": [
    {
     "name": "stdout",
     "output_type": "stream",
     "text": [
      "All the data\n",
      "(1, 'Rav', 'Ahuja', 'TORONTO', 'CA')\n",
      "(2, 'Raul', 'Chong', 'Markham', 'CA')\n"
     ]
    }
   ],
   "source": [
    "## Fetch few rows from the table\n",
    "statement = '''SELECT * FROM INSTRUCTOR'''\n",
    "cursor_obj.execute(statement)\n",
    "  \n",
    "print(\"All the data\")\n",
    "# If you want to fetch few rows from the table we use fetchmany(numberofrows) and mention the number how many rows you want to fetch\n",
    "output_many = cursor_obj.fetchmany(2) \n",
    "for row_many in output_many:\n",
    "  print(row_many)"
   ]
  },
  {
   "cell_type": "code",
   "execution_count": 53,
   "id": "9613f10c-2252-47ce-8d17-f82d6133de19",
   "metadata": {},
   "outputs": [
    {
     "name": "stdout",
     "output_type": "stream",
     "text": [
      "All the data\n",
      "('Rav',)\n",
      "('Raul',)\n",
      "('Hima',)\n"
     ]
    }
   ],
   "source": [
    "# Fetch only FNAME from the table\n",
    "statement = '''SELECT FNAME FROM INSTRUCTOR'''\n",
    "cursor_obj.execute(statement)\n",
    "  \n",
    "print(\"All the data\")\n",
    "output_column = cursor_obj.fetchall()\n",
    "for fetch in output_column:\n",
    "  print(fetch)"
   ]
  },
  {
   "cell_type": "markdown",
   "id": "d6dcdf64-070b-4556-ade7-6d33a7dc47a6",
   "metadata": {},
   "source": [
    "<H3>UPDATE Rav's CITY TO 'MOOSETOWN'</H3>"
   ]
  },
  {
   "cell_type": "code",
   "execution_count": 55,
   "id": "2c00533a-9faa-412d-a150-923b1d788573",
   "metadata": {},
   "outputs": [
    {
     "data": {
      "text/plain": [
       "<sqlite3.Cursor at 0x13ce8827c40>"
      ]
     },
     "execution_count": 55,
     "metadata": {},
     "output_type": "execute_result"
    }
   ],
   "source": [
    "cursor_obj.execute(\"UPDATE INSTRUCTOR SET CITY ='MOOSETOWN' WHERE FNAME = 'Rav'\")"
   ]
  },
  {
   "cell_type": "code",
   "execution_count": 61,
   "id": "a93dce62-d9a8-485c-8c8f-e2d01b4db6ea",
   "metadata": {},
   "outputs": [
    {
     "name": "stdout",
     "output_type": "stream",
     "text": [
      "(1, 'Rav', 'Ahuja', 'MOOSETOWN', 'CA')\n"
     ]
    }
   ],
   "source": [
    "cursor_obj.execute(\"SELECT * FROM INSTRUCTOR WHERE FNAME='Rav'\")\n",
    "fetch =  cursor_obj.fetchall()\n",
    "for row in fetch:\n",
    "    print (row)"
   ]
  },
  {
   "cell_type": "markdown",
   "id": "bcf8a30e-7692-442a-b9f6-1098266ca195",
   "metadata": {},
   "source": [
    "<h2>RETRIEVE DATA INTO TO PANDAS</h2>"
   ]
  },
  {
   "cell_type": "code",
   "execution_count": 75,
   "id": "a1e4a67f-f500-4911-9e64-28e1fe70f0f9",
   "metadata": {},
   "outputs": [
    {
     "name": "stdout",
     "output_type": "stream",
     "text": [
      "   ID FNAME      LNAME       CITY CCODE\n",
      "0   1   Rav      Ahuja  MOOSETOWN    CA\n",
      "1   2  Raul      Chong    Markham    CA\n",
      "2   3  Hima  Vasudevan    Chicago    US\n"
     ]
    }
   ],
   "source": [
    "import pandas as pd\n",
    "\n",
    "#retrieve query into the df\n",
    "df = pd.read_sql_query(\"SELECT * FROM INSTRUCTOR;\",conn)\n",
    "\n",
    "print(df)"
   ]
  },
  {
   "cell_type": "code",
   "execution_count": 79,
   "id": "e45e8fe9-ab26-4104-934d-d8c6bc633b26",
   "metadata": {},
   "outputs": [
    {
     "data": {
      "text/plain": [
       "0        Ahuja\n",
       "1        Chong\n",
       "2    Vasudevan\n",
       "Name: LNAME, dtype: object"
      ]
     },
     "execution_count": 79,
     "metadata": {},
     "output_type": "execute_result"
    }
   ],
   "source": [
    "df.LNAME"
   ]
  },
  {
   "cell_type": "markdown",
   "id": "edb02801-8ecd-4402-9566-fec8f014719f",
   "metadata": {},
   "source": [
    "Once the data is in a Pandas dataframe, you can do the typical pandas operations on it.\n",
    "\n",
    "For example you can use the shape method to see how many rows and columns are in the dataframe"
   ]
  },
  {
   "cell_type": "code",
   "execution_count": 84,
   "id": "b9ae9715-71e5-45f9-bd87-824d0df471c5",
   "metadata": {},
   "outputs": [
    {
     "data": {
      "text/plain": [
       "(3, 5)"
      ]
     },
     "execution_count": 84,
     "metadata": {},
     "output_type": "execute_result"
    }
   ],
   "source": [
    "df.shape"
   ]
  },
  {
   "cell_type": "markdown",
   "id": "142b0d5a-6d8d-415f-8b7d-072e6f5e906b",
   "metadata": {},
   "source": [
    "<h4>Once done, we close the connection to free resources.</h4>"
   ]
  },
  {
   "cell_type": "code",
   "execution_count": 87,
   "id": "6fcaecc8-4e91-4c0a-a83c-3c0313d751c6",
   "metadata": {},
   "outputs": [],
   "source": [
    "#terminate the connection\n",
    "conn.close()"
   ]
  },
  {
   "cell_type": "code",
   "execution_count": null,
   "id": "3449b8d3-833a-4f5c-ba14-fc0332d7ba1e",
   "metadata": {},
   "outputs": [],
   "source": []
  }
 ],
 "metadata": {
  "kernelspec": {
   "display_name": "Python 3 (ipykernel)",
   "language": "python",
   "name": "python3"
  },
  "language_info": {
   "codemirror_mode": {
    "name": "ipython",
    "version": 3
   },
   "file_extension": ".py",
   "mimetype": "text/x-python",
   "name": "python",
   "nbconvert_exporter": "python",
   "pygments_lexer": "ipython3",
   "version": "3.12.4"
  }
 },
 "nbformat": 4,
 "nbformat_minor": 5
}
